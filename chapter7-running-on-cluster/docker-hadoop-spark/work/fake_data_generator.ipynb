{
 "cells": [
  {
   "cell_type": "markdown",
   "metadata": {},
   "source": [
    "# Fake Data Generator"
   ]
  },
  {
   "cell_type": "markdown",
   "metadata": {},
   "source": [
    "## Imports"
   ]
  },
  {
   "cell_type": "code",
   "execution_count": 75,
   "metadata": {},
   "outputs": [],
   "source": [
    "import findspark\n",
    "findspark.init()"
   ]
  },
  {
   "cell_type": "code",
   "execution_count": 76,
   "metadata": {},
   "outputs": [],
   "source": [
    "from pyspark.sql import SparkSession\n",
    "spark = SparkSession.builder.appName(\"fake_data_generator\").master(\"local[*]\").getOrCreate()\n",
    "sc = spark.sparkContext"
   ]
  },
  {
   "cell_type": "code",
   "execution_count": 160,
   "metadata": {},
   "outputs": [],
   "source": [
    "import random, string\n",
    "from pyspark.sql import Row\n",
    "import numpy as np\n",
    "from pyspark.sql.types import StructType, StructField, StringType, IntegerType, FloatType\n",
    "from pyspark.sql.functions import rand"
   ]
  },
  {
   "cell_type": "markdown",
   "metadata": {},
   "source": [
    "## Fake Data Generator Functions"
   ]
  },
  {
   "cell_type": "code",
   "execution_count": 167,
   "metadata": {},
   "outputs": [],
   "source": [
    "def get_rand_int(lower_bound = 0, upper_bound = 150):\n",
    "    return random.randint(lower_bound, upper_bound)\n",
    "\n",
    "def get_rand_str(str_length = 10):\n",
    "    return ''.join(random.choice(string.ascii_letters) for _ in range(str_length))\n",
    "\n",
    "def get_rand_float(lower_bound = 0, upper_bound = 1.0):\n",
    "    return random.uniform(lower_bound, upper_bound)"
   ]
  },
  {
   "cell_type": "code",
   "execution_count": 176,
   "metadata": {},
   "outputs": [],
   "source": [
    "COLUMNS_CONFIG_DICT = {\"rand_str\":{\"generator_function\":get_rand_str, \"sql_type\": StringType()}, \n",
    "                       \"rand_int\":{\"generator_function\":get_rand_int, \"sql_type\": IntegerType()},\n",
    "                       \"rand_float\":{\"generator_function\":get_rand_float, \"sql_type\": FloatType()}}"
   ]
  },
  {
   "cell_type": "code",
   "execution_count": 177,
   "metadata": {},
   "outputs": [],
   "source": [
    "def get_column_generators(columns_config):\n",
    "    return [(COLUMNS_CONFIG_DICT[config_dict[\"generator_function\"]][\"generator_function\"],\n",
    "             config_dict[\"config\"]) for name, config_dict in columns_config]\n",
    "\n",
    "def get_data_rdd(data_length, columns_config):\n",
    "    return sc.parallelize(range(1, data_length+1)).map(lambda idx: tuple([idx] + [f(**config) for f, config in get_column_generators(columns_config)]))\n",
    "\n",
    "def get_schema(columns_config):\n",
    "    return StructType([StructField(\"id\", StringType(), True)] + \n",
    "                      [StructField(name, COLUMNS_CONFIG_DICT[config_dict[\"generator_function\"]][\"sql_type\"], True) for name, config_dict in columns_config])\n",
    "\n",
    "def get_data_df(data_length, columns_config):\n",
    "    return spark.createDataFrame(get_data_rdd(data_length, columns_config), get_schema(columns_config)).orderBy(rand())"
   ]
  },
  {
   "cell_type": "code",
   "execution_count": 180,
   "metadata": {},
   "outputs": [],
   "source": [
    "data_length = 100\n",
    "\n",
    "columns_config1 = [(\"name\", {\"generator_function\":\"rand_str\", \"config\":{\"str_length\":25}}),\n",
    "                   (\"age\", {\"generator_function\":\"rand_int\", \"config\":{\"lower_bound\":3, \"upper_bound\":25}})]\n",
    "\n",
    "columns_config2 = [(\"balance\", {\"generator_function\":\"rand_float\", \"config\":{\"lower_bound\":0, \"upper_bound\":1000}})]"
   ]
  },
  {
   "cell_type": "code",
   "execution_count": 183,
   "metadata": {},
   "outputs": [],
   "source": [
    "df1 = get_data_df(data_length, columns_config1)\n",
    "df2 = get_data_df(data_length, columns_config2)"
   ]
  },
  {
   "cell_type": "code",
   "execution_count": 184,
   "metadata": {},
   "outputs": [
    {
     "name": "stdout",
     "output_type": "stream",
     "text": [
      "+---+--------------------+---+\n",
      "| id|                name|age|\n",
      "+---+--------------------+---+\n",
      "| 13|IDqPIyzqbHaZiqtPZ...| 25|\n",
      "| 61|qjaHDqzFytaLxircK...|  6|\n",
      "| 14|uhFuJZeCKcQiXGWbR...| 15|\n",
      "| 75|hqMTlfiCbgLWQdmJX...| 16|\n",
      "| 32|jDIjaRJwyMvPYVEAz...| 10|\n",
      "| 35|oPSJyCXunbSyTwdrX...| 23|\n",
      "| 62|HItIbSxzuGWykLQxD...| 17|\n",
      "| 66|aqqCuUhwvvMhXSwgz...| 22|\n",
      "| 87|HItIbSxzuGWykLQxD...| 17|\n",
      "| 59|CAfIzyyiouQQUoHJO...| 10|\n",
      "| 46|adjEgZuTqzvPweUho...| 24|\n",
      "| 67|MreJYLmAQMVDOqBIV...| 15|\n",
      "| 29|SntRqTjCvqYsALNmh...| 16|\n",
      "| 41|aqqCuUhwvvMhXSwgz...| 22|\n",
      "| 17|MreJYLmAQMVDOqBIV...| 15|\n",
      "| 12|HItIbSxzuGWykLQxD...| 17|\n",
      "| 30|ZvIvtddTuqBHYkScf...| 20|\n",
      "| 73|czboCtKlJSnBipqIl...| 22|\n",
      "| 11|qjaHDqzFytaLxircK...|  6|\n",
      "|  4|SntRqTjCvqYsALNmh...| 16|\n",
      "| 49|ZFigsvqGqvglqStxy...|  3|\n",
      "|  9|CAfIzyyiouQQUoHJO...| 10|\n",
      "| 40|IJxGWguEoxmhPYJyG...| 20|\n",
      "| 83|FAxokPllKTICPjsYm...|  3|\n",
      "| 18|JCnPUTNDNcdsBLgZQ...| 15|\n",
      "+---+--------------------+---+\n",
      "only showing top 25 rows\n",
      "\n"
     ]
    }
   ],
   "source": [
    "df1.show(25)"
   ]
  },
  {
   "cell_type": "code",
   "execution_count": 185,
   "metadata": {},
   "outputs": [
    {
     "name": "stdout",
     "output_type": "stream",
     "text": [
      "+---+---------+\n",
      "| id|  balance|\n",
      "+---+---------+\n",
      "| 72| 747.4107|\n",
      "| 51|748.49664|\n",
      "|  8| 909.6728|\n",
      "|  9|379.19287|\n",
      "| 50|237.09807|\n",
      "| 25|237.09807|\n",
      "|  6| 937.0201|\n",
      "| 35| 529.8583|\n",
      "| 89| 889.9851|\n",
      "| 80|340.68436|\n",
      "| 60| 529.8583|\n",
      "| 86| 661.9113|\n",
      "| 74| 468.6085|\n",
      "| 12| 406.9189|\n",
      "| 49| 468.6085|\n",
      "| 43|346.36746|\n",
      "| 20|343.05225|\n",
      "| 87| 406.9189|\n",
      "| 77|249.29778|\n",
      "| 58| 909.6728|\n",
      "| 11| 661.9113|\n",
      "| 95|343.05225|\n",
      "| 21|10.488886|\n",
      "|  2|249.29778|\n",
      "| 36| 661.9113|\n",
      "+---+---------+\n",
      "only showing top 25 rows\n",
      "\n"
     ]
    }
   ],
   "source": [
    "df2.show(25)"
   ]
  },
  {
   "cell_type": "code",
   "execution_count": 190,
   "metadata": {},
   "outputs": [],
   "source": [
    "final_df = df1.join(df2, \"id\", \"inner\")"
   ]
  },
  {
   "cell_type": "code",
   "execution_count": 191,
   "metadata": {},
   "outputs": [
    {
     "name": "stdout",
     "output_type": "stream",
     "text": [
      "+---+--------------------+---+---------+\n",
      "| id|                name|age|  balance|\n",
      "+---+--------------------+---+---------+\n",
      "| 51|VApiYcvbmVTyOHPQA...| 14|748.49664|\n",
      "|  7|jDIjaRJwyMvPYVEAz...| 10| 738.0561|\n",
      "| 15|IJxGWguEoxmhPYJyG...| 20| 901.6078|\n",
      "| 54|SntRqTjCvqYsALNmh...| 16|791.04425|\n",
      "| 11|qjaHDqzFytaLxircK...|  6| 661.9113|\n",
      "| 29|SntRqTjCvqYsALNmh...| 16|791.04425|\n",
      "| 69|xlYPjLbjsHQZrqUFK...|  7|484.66693|\n",
      "| 42|MreJYLmAQMVDOqBIV...| 15|700.56085|\n",
      "| 73|czboCtKlJSnBipqIl...| 22| 215.9689|\n",
      "| 87|HItIbSxzuGWykLQxD...| 17| 406.9189|\n",
      "| 64|uhFuJZeCKcQiXGWbR...| 15| 889.9851|\n",
      "|  3|fbGIAVRRyeXzcfNxf...| 15|140.59113|\n",
      "| 30|ZvIvtddTuqBHYkScf...| 20|340.68436|\n",
      "| 34|CAfIzyyiouQQUoHJO...| 10|379.19287|\n",
      "| 59|CAfIzyyiouQQUoHJO...| 10|379.19287|\n",
      "|  8|FAxokPllKTICPjsYm...|  3| 909.6728|\n",
      "| 22|MjsDIXnLviqRwxxfu...| 19| 747.4107|\n",
      "| 28|fbGIAVRRyeXzcfNxf...| 15|140.59113|\n",
      "| 85|oPSJyCXunbSyTwdrX...| 23| 529.8583|\n",
      "| 16|aqqCuUhwvvMhXSwgz...| 22|266.98596|\n",
      "| 35|oPSJyCXunbSyTwdrX...| 23| 529.8583|\n",
      "| 52|AFNvMayVknsDEpUAi...| 25|249.29778|\n",
      "| 71|adjEgZuTqzvPweUho...| 24|10.488886|\n",
      "| 98|czboCtKlJSnBipqIl...| 22| 215.9689|\n",
      "| 47|MjsDIXnLviqRwxxfu...| 19| 747.4107|\n",
      "| 99|ZFigsvqGqvglqStxy...|  3| 468.6085|\n",
      "| 96|adjEgZuTqzvPweUho...| 24|10.488886|\n",
      "| 43|JCnPUTNDNcdsBLgZQ...| 15|346.36746|\n",
      "|  5|ZvIvtddTuqBHYkScf...| 20|340.68436|\n",
      "| 31|CjhjlgdYxHvWdEVQD...|  7| 937.0201|\n",
      "|100|hqMTlfiCbgLWQdmJX...| 16|237.09807|\n",
      "| 18|JCnPUTNDNcdsBLgZQ...| 15|346.36746|\n",
      "| 70|TQEYVxsmePauiBdBR...|  9|343.05225|\n",
      "| 27|AFNvMayVknsDEpUAi...| 25|249.29778|\n",
      "| 61|qjaHDqzFytaLxircK...|  6| 661.9113|\n",
      "| 75|hqMTlfiCbgLWQdmJX...| 16|237.09807|\n",
      "| 17|MreJYLmAQMVDOqBIV...| 15|700.56085|\n",
      "| 26|VApiYcvbmVTyOHPQA...| 14|748.49664|\n",
      "| 46|adjEgZuTqzvPweUho...| 24|10.488886|\n",
      "| 78|fbGIAVRRyeXzcfNxf...| 15|140.59113|\n",
      "| 77|AFNvMayVknsDEpUAi...| 25|249.29778|\n",
      "| 89|uhFuJZeCKcQiXGWbR...| 15| 889.9851|\n",
      "|  6|CjhjlgdYxHvWdEVQD...|  7| 937.0201|\n",
      "| 60|oPSJyCXunbSyTwdrX...| 23| 529.8583|\n",
      "| 68|JCnPUTNDNcdsBLgZQ...| 15|346.36746|\n",
      "| 90|IJxGWguEoxmhPYJyG...| 20| 901.6078|\n",
      "| 19|xlYPjLbjsHQZrqUFK...|  7|484.66693|\n",
      "| 23|czboCtKlJSnBipqIl...| 22| 215.9689|\n",
      "| 41|aqqCuUhwvvMhXSwgz...| 22|266.98596|\n",
      "| 55|ZvIvtddTuqBHYkScf...| 20|340.68436|\n",
      "| 93|JCnPUTNDNcdsBLgZQ...| 15|346.36746|\n",
      "| 95|TQEYVxsmePauiBdBR...|  9|343.05225|\n",
      "| 38|IDqPIyzqbHaZiqtPZ...| 25| 847.5825|\n",
      "| 40|IJxGWguEoxmhPYJyG...| 20| 901.6078|\n",
      "| 25|hqMTlfiCbgLWQdmJX...| 16|237.09807|\n",
      "| 44|xlYPjLbjsHQZrqUFK...|  7|484.66693|\n",
      "| 82|jDIjaRJwyMvPYVEAz...| 10| 738.0561|\n",
      "| 53|fbGIAVRRyeXzcfNxf...| 15|140.59113|\n",
      "| 92|MreJYLmAQMVDOqBIV...| 15|700.56085|\n",
      "| 86|qjaHDqzFytaLxircK...|  6| 661.9113|\n",
      "| 58|FAxokPllKTICPjsYm...|  3| 909.6728|\n",
      "| 81|CjhjlgdYxHvWdEVQD...|  7| 937.0201|\n",
      "| 33|FAxokPllKTICPjsYm...|  3| 909.6728|\n",
      "| 48|czboCtKlJSnBipqIl...| 22| 215.9689|\n",
      "| 97|MjsDIXnLviqRwxxfu...| 19| 747.4107|\n",
      "| 67|MreJYLmAQMVDOqBIV...| 15|700.56085|\n",
      "| 84|CAfIzyyiouQQUoHJO...| 10|379.19287|\n",
      "| 79|SntRqTjCvqYsALNmh...| 16|791.04425|\n",
      "| 24|ZFigsvqGqvglqStxy...|  3| 468.6085|\n",
      "|  9|CAfIzyyiouQQUoHJO...| 10|379.19287|\n",
      "| 32|jDIjaRJwyMvPYVEAz...| 10| 738.0561|\n",
      "| 88|IDqPIyzqbHaZiqtPZ...| 25| 847.5825|\n",
      "|  1|VApiYcvbmVTyOHPQA...| 14|748.49664|\n",
      "| 20|TQEYVxsmePauiBdBR...|  9|343.05225|\n",
      "| 56|CjhjlgdYxHvWdEVQD...|  7| 937.0201|\n",
      "| 36|qjaHDqzFytaLxircK...|  6| 661.9113|\n",
      "| 10|oPSJyCXunbSyTwdrX...| 23| 529.8583|\n",
      "| 37|HItIbSxzuGWykLQxD...| 17| 406.9189|\n",
      "| 49|ZFigsvqGqvglqStxy...|  3| 468.6085|\n",
      "| 63|IDqPIyzqbHaZiqtPZ...| 25| 847.5825|\n",
      "| 65|IJxGWguEoxmhPYJyG...| 20| 901.6078|\n",
      "|  4|SntRqTjCvqYsALNmh...| 16|791.04425|\n",
      "| 39|uhFuJZeCKcQiXGWbR...| 15| 889.9851|\n",
      "| 62|HItIbSxzuGWykLQxD...| 17| 406.9189|\n",
      "| 12|HItIbSxzuGWykLQxD...| 17| 406.9189|\n",
      "| 83|FAxokPllKTICPjsYm...|  3| 909.6728|\n",
      "| 13|IDqPIyzqbHaZiqtPZ...| 25| 847.5825|\n",
      "| 14|uhFuJZeCKcQiXGWbR...| 15| 889.9851|\n",
      "| 21|adjEgZuTqzvPweUho...| 24|10.488886|\n",
      "| 66|aqqCuUhwvvMhXSwgz...| 22|266.98596|\n",
      "| 91|aqqCuUhwvvMhXSwgz...| 22|266.98596|\n",
      "| 94|xlYPjLbjsHQZrqUFK...|  7|484.66693|\n",
      "| 72|MjsDIXnLviqRwxxfu...| 19| 747.4107|\n",
      "| 74|ZFigsvqGqvglqStxy...|  3| 468.6085|\n",
      "| 76|VApiYcvbmVTyOHPQA...| 14|748.49664|\n",
      "|  2|AFNvMayVknsDEpUAi...| 25|249.29778|\n",
      "| 80|ZvIvtddTuqBHYkScf...| 20|340.68436|\n",
      "| 50|hqMTlfiCbgLWQdmJX...| 16|237.09807|\n",
      "| 45|TQEYVxsmePauiBdBR...|  9|343.05225|\n",
      "| 57|jDIjaRJwyMvPYVEAz...| 10| 738.0561|\n",
      "+---+--------------------+---+---------+\n",
      "\n"
     ]
    }
   ],
   "source": [
    "final_df.show(100)"
   ]
  },
  {
   "cell_type": "markdown",
   "metadata": {},
   "source": [
    "## Fake Data Generator Class [UNDER CONSTRUCTION]"
   ]
  },
  {
   "cell_type": "code",
   "execution_count": null,
   "metadata": {},
   "outputs": [],
   "source": [
    "import random, string\n",
    "from pyspark.sql import Row\n",
    "import numpy as np\n",
    "from pyspark.sql.types import StructType, StructField, StringType, IntegerType, FloatType\n",
    "\n",
    "\n",
    "def get_rand_int(self, lower_bound = 0, upper_bound = 150):\n",
    "    return random.randint(lower_bound, upper_bound)\n",
    "\n",
    "def get_rand_str(self, str_length = 10):\n",
    "    return ''.join(random.choice(string.ascii_letters) for _ in range(str_length))\n",
    "\n",
    "class FakeDataGenerator():\n",
    "    \n",
    "    def __init__(self, spark, sc, length):\n",
    "        self.length = length\n",
    "        self.spark = spark\n",
    "        self.sc = sc\n",
    "\n",
    "#     def get_rand_int(self, lower_bound = 0, upper_bound = 150):\n",
    "#         return random.randint(lower_bound, upper_bound)\n",
    "\n",
    "#     def get_rand_str(self, str_length = 10):\n",
    "#         return ''.join(random.choice(string.ascii_letters) for _ in range(str_length))\n",
    "    \n",
    "#     def set_column_generators(self):\n",
    "#         self.column_generators = [self.get_rand_int, self.get_rand_str]\n",
    "    \n",
    "#     def get_data_rdd(self):\n",
    "#         return sc.parallelize(range(1, self.length+1)).map(lambda idx: tuple([idx] + [f() for f in self.column_generators]))\n",
    "\n",
    "    @staticmethod\n",
    "    def my_random(self):\n",
    "        return random.randint\n",
    "    \n",
    "    def get_data_rdd(self):\n",
    "        return self.sc.parallelize(range(1, self.length+1)).map(lambda idx: tuple([idx] + [self.my_random(1, 10)]))\n",
    "    \n",
    "    def set_schema(self):\n",
    "        self.schema = StructType([StructField(\"id\", IntegerType(), True),\n",
    "                                  StructField(\"name\", FloatType(), True)])\n",
    "    \n",
    "    def get_data_df(self):\n",
    "#         self.set_column_generators()\n",
    "        self.set_schema()\n",
    "        return self.spark.createDataFrame(self.get_data_rdd(), self.schema)\n",
    "        \n",
    "        "
   ]
  },
  {
   "cell_type": "code",
   "execution_count": null,
   "metadata": {},
   "outputs": [],
   "source": [
    "myDataGenerator = FakeDataGenerator(spark, sc, 10)"
   ]
  },
  {
   "cell_type": "code",
   "execution_count": null,
   "metadata": {},
   "outputs": [],
   "source": [
    "myDataGenerator.get_data_df().show(5)"
   ]
  },
  {
   "cell_type": "code",
   "execution_count": null,
   "metadata": {},
   "outputs": [],
   "source": [
    "random.random()"
   ]
  },
  {
   "cell_type": "code",
   "execution_count": null,
   "metadata": {},
   "outputs": [],
   "source": []
  }
 ],
 "metadata": {
  "kernelspec": {
   "display_name": "Python 3",
   "language": "python",
   "name": "python3"
  },
  "language_info": {
   "codemirror_mode": {
    "name": "ipython",
    "version": 3
   },
   "file_extension": ".py",
   "mimetype": "text/x-python",
   "name": "python",
   "nbconvert_exporter": "python",
   "pygments_lexer": "ipython3",
   "version": "3.6.5"
  }
 },
 "nbformat": 4,
 "nbformat_minor": 2
}
