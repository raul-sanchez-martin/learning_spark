{
 "cells": [
  {
   "cell_type": "markdown",
   "metadata": {},
   "source": [
    "# Chapter 4: Working with Key/Value Pairs (Python)"
   ]
  },
  {
   "cell_type": "code",
   "execution_count": 1,
   "metadata": {},
   "outputs": [],
   "source": [
    "from pyspark.sql import SparkSession\n",
    "spark = SparkSession.builder.appName(\"Key-Value-Pairs\").master(\"local[*]\").getOrCreate()\n",
    "sc = spark.sparkContext"
   ]
  },
  {
   "cell_type": "markdown",
   "metadata": {},
   "source": [
    "## Creating Pair RDDs\n",
    "\n",
    "Using `map()`"
   ]
  },
  {
   "cell_type": "code",
   "execution_count": 2,
   "metadata": {},
   "outputs": [],
   "source": [
    "numeric_rdd = sc.parallelize([1,4,2,4,1,3,3])\n",
    "pair_rdd = numeric_rdd.map(lambda x: (x, x**2))"
   ]
  },
  {
   "cell_type": "code",
   "execution_count": 3,
   "metadata": {},
   "outputs": [
    {
     "name": "stdout",
     "output_type": "stream",
     "text": [
      "Pair RDD from map(): [(1, 1), (4, 16), (2, 4), (4, 16), (1, 1), (3, 9), (3, 9)]\n"
     ]
    }
   ],
   "source": [
    "print(\"Pair RDD from map(): {0}\".format(pair_rdd.collect()))"
   ]
  },
  {
   "cell_type": "markdown",
   "metadata": {},
   "source": [
    "## Transformations on one Pair RDDs"
   ]
  },
  {
   "cell_type": "markdown",
   "metadata": {},
   "source": [
    "`reduceByKey()`, `mapValues()`"
   ]
  },
  {
   "cell_type": "code",
   "execution_count": 4,
   "metadata": {},
   "outputs": [
    {
     "name": "stdout",
     "output_type": "stream",
     "text": [
      "Sum values using reduceByKey(): [(4, 32), (1, 2), (2, 4), (3, 18)]\n"
     ]
    }
   ],
   "source": [
    "sum_values = pair_rdd.reduceByKey(lambda x, y: x+y)\n",
    "print(\"Sum values using reduceByKey(): {0}\".format(sum_values.collect()))"
   ]
  },
  {
   "cell_type": "code",
   "execution_count": 5,
   "metadata": {},
   "outputs": [
    {
     "name": "stdout",
     "output_type": "stream",
     "text": [
      "Average by key using reduceByKey(): [(4, 16.0), (1, 1.0), (2, 4.0), (3, 9.0)]\n"
     ]
    }
   ],
   "source": [
    "avg_red_by_key = pair_rdd.map(lambda x: (x[0], (x[1], 1)))\\\n",
    ".reduceByKey(lambda x, y: (x[0] + y[0], x[1] + y[1])).mapValues(lambda x: x[0]/x[1]).collect()\n",
    "\n",
    "print(\"Average by key using reduceByKey(): {0}\".format(avg_red_by_key))"
   ]
  },
  {
   "cell_type": "code",
   "execution_count": 6,
   "metadata": {},
   "outputs": [
    {
     "name": "stdout",
     "output_type": "stream",
     "text": [
      "Word count using reduceByKey(): [('#', 1), ('Apache', 1), ('Spark', 16), ('', 71), ('is', 6), ('It', 2), ('provides', 1), ('high-level', 1), ('APIs', 1), ('in', 6)]\n"
     ]
    }
   ],
   "source": [
    "lines = sc.textFile(\"../data/README.md\")\n",
    "words = lines.flatMap(lambda x: x.split(\" \")).map(lambda x: (x, 1))\n",
    "words_count = words.reduceByKey(lambda x, y: x + y)\n",
    "print(\"Word count using reduceByKey(): {0}\".format(words_count.take(10)))"
   ]
  },
  {
   "cell_type": "markdown",
   "metadata": {},
   "source": [
    "`groupByKey()`"
   ]
  },
  {
   "cell_type": "code",
   "execution_count": 7,
   "metadata": {},
   "outputs": [
    {
     "name": "stdout",
     "output_type": "stream",
     "text": [
      "Grouped RDD using groupByKey(): [(4, <pyspark.resultiterable.ResultIterable object at 0x7f47c710b518>), (1, <pyspark.resultiterable.ResultIterable object at 0x7f47c710b630>), (2, <pyspark.resultiterable.ResultIterable object at 0x7f47c710bcc0>), (3, <pyspark.resultiterable.ResultIterable object at 0x7f47c710b400>)]\n"
     ]
    }
   ],
   "source": [
    "grouped_values = pair_rdd.groupByKey()\n",
    "print(\"Grouped RDD using groupByKey(): {0}\".format(grouped_values.groupByKey().collect()))"
   ]
  },
  {
   "cell_type": "markdown",
   "metadata": {},
   "source": [
    "`combineByKey()`"
   ]
  },
  {
   "cell_type": "code",
   "execution_count": 8,
   "metadata": {},
   "outputs": [
    {
     "name": "stdout",
     "output_type": "stream",
     "text": [
      "Average by key using combineByKey(): [(4, 16.0), (1, 1.0), (2, 4.0), (3, 9.0)]\n"
     ]
    }
   ],
   "source": [
    "sum_key_values = pair_rdd.combineByKey(lambda value: (value, 1), \n",
    "                                      (lambda acc, value: (acc[0] + value, acc[1] + 1)), \n",
    "                                      (lambda acc1, acc2: (acc1[0] + acc2[0], acc1[1] + acc2[1])))\n",
    "\n",
    "avg_com_by_key = sum_key_values.map(lambda x: (x[0], x[1][0]/x[1][1])).collect()\n",
    "\n",
    "print(\"Average by key using combineByKey(): {0}\".format(avg_com_by_key))"
   ]
  },
  {
   "cell_type": "markdown",
   "metadata": {},
   "source": [
    "`flatMapValues()`"
   ]
  },
  {
   "cell_type": "code",
   "execution_count": 9,
   "metadata": {},
   "outputs": [
    {
     "name": "stdout",
     "output_type": "stream",
     "text": [
      "RDD using flatMapValues(): [(4, 0), (4, 1), (4, 2), (4, 3), (4, 4), (4, 5), (4, 6), (4, 7), (2, 0), (2, 1)]\n"
     ]
    }
   ],
   "source": [
    "print(\"RDD using flatMapValues(): {0}\".format(pair_rdd.flatMapValues(lambda x: (list(range(int(x/2))))).take(10)))"
   ]
  },
  {
   "cell_type": "markdown",
   "metadata": {},
   "source": [
    "`keys()`"
   ]
  },
  {
   "cell_type": "code",
   "execution_count": 10,
   "metadata": {},
   "outputs": [
    {
     "name": "stdout",
     "output_type": "stream",
     "text": [
      "Get keys from key/pair RDD using keys(): [1, 4, 2, 4, 1, 3, 3]\n"
     ]
    }
   ],
   "source": [
    "print(\"Get keys from key/pair RDD using keys(): {0}\".format(pair_rdd.keys().collect()))"
   ]
  },
  {
   "cell_type": "markdown",
   "metadata": {},
   "source": [
    "`values()`"
   ]
  },
  {
   "cell_type": "code",
   "execution_count": 11,
   "metadata": {},
   "outputs": [
    {
     "name": "stdout",
     "output_type": "stream",
     "text": [
      "Get values from key/pair RDD using values(): [1, 16, 4, 16, 1, 9, 9]\n"
     ]
    }
   ],
   "source": [
    "print(\"Get values from key/pair RDD using values(): {0}\".format(pair_rdd.values().collect()))"
   ]
  },
  {
   "cell_type": "markdown",
   "metadata": {},
   "source": [
    "`sortByKey()`"
   ]
  },
  {
   "cell_type": "code",
   "execution_count": 12,
   "metadata": {},
   "outputs": [],
   "source": [
    "rdd_sort = sc.parallelize([(4, (8, 2)), (1, (3, 1, 9))])"
   ]
  },
  {
   "cell_type": "code",
   "execution_count": 13,
   "metadata": {},
   "outputs": [
    {
     "name": "stdout",
     "output_type": "stream",
     "text": [
      "Get RDD sorted by keys using sortByKey(): [(1, (3, 1, 9)), (4, (8, 2))]\n"
     ]
    }
   ],
   "source": [
    "print(\"Get RDD sorted by keys using sortByKey(): {0}\".format(rdd_sort.sortByKey().collect()))"
   ]
  },
  {
   "cell_type": "markdown",
   "metadata": {},
   "source": [
    "## Transformations on two Pair RDDs"
   ]
  },
  {
   "cell_type": "code",
   "execution_count": 14,
   "metadata": {},
   "outputs": [],
   "source": [
    "pair_rdd_1 = sc.parallelize([(3, 'A'), (2, 'J'), (5, 'K')]) \n",
    "pair_rdd_2 = sc.parallelize([(5, 'Z'), (3, 'W'), (7, 'B')]) "
   ]
  },
  {
   "cell_type": "markdown",
   "metadata": {},
   "source": [
    "`subtractByKey()`"
   ]
  },
  {
   "cell_type": "code",
   "execution_count": 15,
   "metadata": {},
   "outputs": [
    {
     "name": "stdout",
     "output_type": "stream",
     "text": [
      "RDD from subtractByKey(): [(2, 'J')]\n"
     ]
    }
   ],
   "source": [
    "subtract_rdd = pair_rdd_1.subtractByKey(pair_rdd_2)\n",
    "print(\"RDD from subtractByKey(): {0}\".format(subtract_rdd.collect()))"
   ]
  },
  {
   "cell_type": "markdown",
   "metadata": {},
   "source": [
    "`.join()`"
   ]
  },
  {
   "cell_type": "code",
   "execution_count": 16,
   "metadata": {},
   "outputs": [
    {
     "name": "stdout",
     "output_type": "stream",
     "text": [
      "Inner join: [(3, ('A', 'W')), (5, ('K', 'Z'))]\n"
     ]
    }
   ],
   "source": [
    "inner_join_rdd = pair_rdd_1.join(pair_rdd_2)\n",
    "print(\"Inner join: {0}\".format(inner_join_rdd.collect()))"
   ]
  },
  {
   "cell_type": "markdown",
   "metadata": {},
   "source": [
    "`.leftOuterJoin()`"
   ]
  },
  {
   "cell_type": "code",
   "execution_count": 17,
   "metadata": {},
   "outputs": [
    {
     "name": "stdout",
     "output_type": "stream",
     "text": [
      "Left outer join: [(2, ('J', None)), (3, ('A', 'W')), (5, ('K', 'Z'))]\n"
     ]
    }
   ],
   "source": [
    "left_outer_join_rdd = pair_rdd_1.leftOuterJoin(pair_rdd_2)\n",
    "print(\"Left outer join: {0}\".format(left_outer_join_rdd.collect()))"
   ]
  },
  {
   "cell_type": "markdown",
   "metadata": {},
   "source": [
    "`.rightOuterJoin()`"
   ]
  },
  {
   "cell_type": "code",
   "execution_count": 18,
   "metadata": {},
   "outputs": [
    {
     "name": "stdout",
     "output_type": "stream",
     "text": [
      "Right outer join: [(3, ('A', 'W')), (5, ('K', 'Z')), (7, (None, 'B'))]\n"
     ]
    }
   ],
   "source": [
    "right_outer_join_rdd = pair_rdd_1.rightOuterJoin(pair_rdd_2)\n",
    "print(\"Right outer join: {0}\".format(right_outer_join_rdd.collect()))"
   ]
  },
  {
   "cell_type": "markdown",
   "metadata": {},
   "source": [
    "`.cogroup()`"
   ]
  },
  {
   "cell_type": "code",
   "execution_count": 19,
   "metadata": {},
   "outputs": [
    {
     "name": "stdout",
     "output_type": "stream",
     "text": [
      "Cogrouped RDD: [(2, (<pyspark.resultiterable.ResultIterable object at 0x7f47c6f99c18>, <pyspark.resultiterable.ResultIterable object at 0x7f47c6f99c88>)), (3, (<pyspark.resultiterable.ResultIterable object at 0x7f47c6f99eb8>, <pyspark.resultiterable.ResultIterable object at 0x7f47c70fefd0>)), (5, (<pyspark.resultiterable.ResultIterable object at 0x7f47c6f99e10>, <pyspark.resultiterable.ResultIterable object at 0x7f47c70fe550>)), (7, (<pyspark.resultiterable.ResultIterable object at 0x7f47c6f99da0>, <pyspark.resultiterable.ResultIterable object at 0x7f47c70fe128>))]\n"
     ]
    }
   ],
   "source": [
    "cogroup_rdd = pair_rdd_1.cogroup(pair_rdd_2)\n",
    "print(\"Cogrouped RDD: {0}\".format(cogroup_rdd.collect()))"
   ]
  },
  {
   "cell_type": "markdown",
   "metadata": {},
   "source": [
    "## Actions Available on Pair RDDs"
   ]
  },
  {
   "cell_type": "markdown",
   "metadata": {},
   "source": [
    "`countByKey()`"
   ]
  },
  {
   "cell_type": "code",
   "execution_count": 20,
   "metadata": {},
   "outputs": [
    {
     "name": "stdout",
     "output_type": "stream",
     "text": [
      "countByKey(): defaultdict(<class 'int'>, {1: 2, 4: 2, 2: 1, 3: 2})\n"
     ]
    }
   ],
   "source": [
    "print(\"countByKey(): {0}\".format(pair_rdd.countByKey()))"
   ]
  },
  {
   "cell_type": "markdown",
   "metadata": {},
   "source": [
    "`collectAsMap()`"
   ]
  },
  {
   "cell_type": "code",
   "execution_count": 21,
   "metadata": {},
   "outputs": [
    {
     "name": "stdout",
     "output_type": "stream",
     "text": [
      "collectAsMap(): {1: 1, 4: 16, 2: 4, 3: 9}\n"
     ]
    }
   ],
   "source": [
    "print(\"collectAsMap(): {0}\".format(pair_rdd.collectAsMap()))"
   ]
  },
  {
   "cell_type": "markdown",
   "metadata": {},
   "source": [
    "`lookup()`"
   ]
  },
  {
   "cell_type": "code",
   "execution_count": 22,
   "metadata": {},
   "outputs": [
    {
     "name": "stdout",
     "output_type": "stream",
     "text": [
      "lookup(4): [16, 16]\n"
     ]
    }
   ],
   "source": [
    "print(\"lookup(4): {0}\".format(pair_rdd.lookup(4)))"
   ]
  },
  {
   "cell_type": "markdown",
   "metadata": {},
   "source": [
    "## Partitions"
   ]
  },
  {
   "cell_type": "markdown",
   "metadata": {},
   "source": [
    "`repartition()`"
   ]
  },
  {
   "cell_type": "code",
   "execution_count": 23,
   "metadata": {},
   "outputs": [
    {
     "name": "stdout",
     "output_type": "stream",
     "text": [
      "Repartition of an RDD: [[(1, 1), (4, 16), (1, 1), (3, 9), (3, 9)], [(4, 16), (2, 4)]]\n"
     ]
    }
   ],
   "source": [
    "print(\"Repartition of an RDD: {0}\".format(pair_rdd.repartition(2).glom().collect()))"
   ]
  },
  {
   "cell_type": "markdown",
   "metadata": {},
   "source": [
    "`partitionBy()`"
   ]
  },
  {
   "cell_type": "code",
   "execution_count": 24,
   "metadata": {},
   "outputs": [
    {
     "name": "stdout",
     "output_type": "stream",
     "text": [
      "Custom partition using partitionBy(): [[(1, 1), (2, 4), (1, 1)], [(4, 16), (4, 16), (3, 9), (3, 9)]]\n"
     ]
    }
   ],
   "source": [
    "print(\"Custom partition using partitionBy(): {0}\".format(pair_rdd.partitionBy(2, lambda x: int(x>2)).glom().collect()))"
   ]
  },
  {
   "cell_type": "code",
   "execution_count": null,
   "metadata": {},
   "outputs": [],
   "source": []
  }
 ],
 "metadata": {
  "kernelspec": {
   "display_name": "Python 3",
   "language": "python",
   "name": "python3"
  },
  "language_info": {
   "codemirror_mode": {
    "name": "ipython",
    "version": 3
   },
   "file_extension": ".py",
   "mimetype": "text/x-python",
   "name": "python",
   "nbconvert_exporter": "python",
   "pygments_lexer": "ipython3",
   "version": "3.6.5"
  }
 },
 "nbformat": 4,
 "nbformat_minor": 2
}
