{
 "cells": [
  {
   "cell_type": "markdown",
   "metadata": {},
   "source": [
    "# Chapter 4: Working with Key/Value Pairs (Scala)"
   ]
  },
  {
   "cell_type": "code",
   "execution_count": 44,
   "metadata": {},
   "outputs": [
    {
     "data": {
      "text/plain": [
       "spark = org.apache.spark.sql.SparkSession@645ae311\n",
       "sc = org.apache.spark.SparkContext@6c8c5913\n"
      ]
     },
     "metadata": {},
     "output_type": "display_data"
    },
    {
     "data": {
      "text/html": [
       "<ul>\n",
       "<li><a href=\"Some(http://2c800dff4f80:4040)\" target=\"new_tab\">Spark UI: local-1533226861801</a></li>\n",
       "</ul>"
      ],
      "text/plain": [
       "Spark local-1533226861801: Some(http://2c800dff4f80:4040)"
      ]
     },
     "execution_count": 44,
     "metadata": {},
     "output_type": "execute_result"
    }
   ],
   "source": [
    "import org.apache.spark.sql.SparkSession\n",
    "val spark = SparkSession.builder.appName(\"Working Key/Value Pairs\").master(\"local[*]\").getOrCreate()\n",
    "val sc = spark.sparkContext"
   ]
  },
  {
   "cell_type": "markdown",
   "metadata": {},
   "source": [
    "## Creating Pair RDDs\n",
    "\n",
    "Using `map()`"
   ]
  },
  {
   "cell_type": "code",
   "execution_count": 45,
   "metadata": {},
   "outputs": [],
   "source": [
    "import scala.math.pow"
   ]
  },
  {
   "cell_type": "code",
   "execution_count": 46,
   "metadata": {},
   "outputs": [
    {
     "data": {
      "text/plain": [
       "numericRdd = ParallelCollectionRDD[72] at parallelize at <console>:35\n",
       "pairRdd = MapPartitionsRDD[73] at map at <console>:36\n"
      ]
     },
     "metadata": {},
     "output_type": "display_data"
    },
    {
     "data": {
      "text/plain": [
       "MapPartitionsRDD[73] at map at <console>:36"
      ]
     },
     "execution_count": 46,
     "metadata": {},
     "output_type": "execute_result"
    }
   ],
   "source": [
    "val numericRdd = sc.parallelize(List(1,4,2,4,1,3,3))\n",
    "val pairRdd = numericRdd.map(x => (x, pow(x, 2).toInt))"
   ]
  },
  {
   "cell_type": "code",
   "execution_count": 47,
   "metadata": {},
   "outputs": [
    {
     "name": "stdout",
     "output_type": "stream",
     "text": [
      "Pair RDD from map(): (1,1), (4,16), (2,4), (4,16), (1,1), (3,9), (3,9)\n"
     ]
    }
   ],
   "source": [
    "println(\"Pair RDD from map(): \" + pairRdd.collect().mkString(\", \"))"
   ]
  },
  {
   "cell_type": "markdown",
   "metadata": {},
   "source": [
    "## Transformations on one Pair RDDs\n",
    "\n",
    "`reduceByKey()`, `mapValues()`"
   ]
  },
  {
   "cell_type": "code",
   "execution_count": 48,
   "metadata": {},
   "outputs": [
    {
     "name": "stdout",
     "output_type": "stream",
     "text": [
      "Sum values using reduceByKey(): (4,32), (1,2), (2,4), (3,18)\n"
     ]
    },
    {
     "data": {
      "text/plain": [
       "sumValues = ShuffledRDD[74] at reduceByKey at <console>:38\n"
      ]
     },
     "metadata": {},
     "output_type": "display_data"
    },
    {
     "data": {
      "text/plain": [
       "ShuffledRDD[74] at reduceByKey at <console>:38"
      ]
     },
     "execution_count": 48,
     "metadata": {},
     "output_type": "execute_result"
    }
   ],
   "source": [
    "val sumValues = pairRdd.reduceByKey(_ + _)\n",
    "println(\"Sum values using reduceByKey(): \" + sumValues.collect().mkString(\", \"))"
   ]
  },
  {
   "cell_type": "code",
   "execution_count": 49,
   "metadata": {},
   "outputs": [
    {
     "name": "stdout",
     "output_type": "stream",
     "text": [
      "Average by key using reduceByKey(): (4,16), (1,1), (2,4), (3,9)\n"
     ]
    },
    {
     "data": {
      "text/plain": [
       "avgRedByKey = MapPartitionsRDD[77] at mapValues at <console>:38\n"
      ]
     },
     "metadata": {},
     "output_type": "display_data"
    },
    {
     "data": {
      "text/plain": [
       "MapPartitionsRDD[77] at mapValues at <console>:38"
      ]
     },
     "execution_count": 49,
     "metadata": {},
     "output_type": "execute_result"
    }
   ],
   "source": [
    "val avgRedByKey = pairRdd.map(x => (x._1, (x._2, 1))).reduceByKey((x, y) => (x._1 + y._1, x._2 + y._2)).mapValues(x => x._1/x._2)\n",
    "println(\"Average by key using reduceByKey(): \" + avgRedByKey.collect().mkString(\", \"))"
   ]
  },
  {
   "cell_type": "code",
   "execution_count": 50,
   "metadata": {},
   "outputs": [
    {
     "name": "stdout",
     "output_type": "stream",
     "text": [
      "Word count using reduceByKey(): (package,1), (this,1), (Version\"](http://spark.apache.org/docs/latest/building-spark.html#specifying-the-hadoop-version),1), (Because,1), (Python,2), (page](http://spark.apache.org/documentation.html).,1), (cluster.,1), (its,1), ([run,1), (general,3)"
     ]
    },
    {
     "data": {
      "text/plain": [
       "lines = ../data/README.md MapPartitionsRDD[79] at textFile at <console>:36\n",
       "words = ShuffledRDD[82] at reduceByKey at <console>:37\n"
      ]
     },
     "metadata": {},
     "output_type": "display_data"
    },
    {
     "data": {
      "text/plain": [
       "ShuffledRDD[82] at reduceByKey at <console>:37"
      ]
     },
     "execution_count": 50,
     "metadata": {},
     "output_type": "execute_result"
    }
   ],
   "source": [
    "val lines = sc.textFile(\"../data/README.md\")\n",
    "val words = lines.flatMap(_.split(\" \")).map(x => (x, 1)).reduceByKey(_ + _)\n",
    "print(\"Word count using reduceByKey(): \" + words.take(10).mkString(\", \"))"
   ]
  },
  {
   "cell_type": "markdown",
   "metadata": {},
   "source": [
    "`groupByKey()`"
   ]
  },
  {
   "cell_type": "code",
   "execution_count": 51,
   "metadata": {},
   "outputs": [
    {
     "name": "stdout",
     "output_type": "stream",
     "text": [
      "Grouped RDD using groupByKey(): (4,CompactBuffer(16, 16)), (1,CompactBuffer(1, 1)), (2,CompactBuffer(4)), (3,CompactBuffer(9, 9))\n"
     ]
    },
    {
     "data": {
      "text/plain": [
       "groupedValues = ShuffledRDD[83] at groupByKey at <console>:38\n"
      ]
     },
     "metadata": {},
     "output_type": "display_data"
    },
    {
     "data": {
      "text/plain": [
       "ShuffledRDD[83] at groupByKey at <console>:38"
      ]
     },
     "execution_count": 51,
     "metadata": {},
     "output_type": "execute_result"
    }
   ],
   "source": [
    "val groupedValues = pairRdd.groupByKey()\n",
    "println(\"Grouped RDD using groupByKey(): \" + groupedValues.collect().mkString(\", \"))"
   ]
  },
  {
   "cell_type": "markdown",
   "metadata": {},
   "source": [
    "`combineByKey()`"
   ]
  },
  {
   "cell_type": "code",
   "execution_count": 52,
   "metadata": {},
   "outputs": [
    {
     "data": {
      "text/plain": [
       "[(1,1), (4,16), (2,4), (4,16), (1,1), (3,9), (3,9)]"
      ]
     },
     "execution_count": 52,
     "metadata": {},
     "output_type": "execute_result"
    }
   ],
   "source": [
    "pairRdd.collect()"
   ]
  },
  {
   "cell_type": "code",
   "execution_count": 53,
   "metadata": {},
   "outputs": [
    {
     "name": "stdout",
     "output_type": "stream",
     "text": [
      "Average by key using combineByKey(): (4,16.0), (1,1.0), (2,4.0), (3,9.0)"
     ]
    },
    {
     "data": {
      "text/plain": [
       "sumKeyValues = ShuffledRDD[84] at combineByKey at <console>:39\n",
       "avgComByKey = MapPartitionsRDD[85] at mapValues at <console>:43\n"
      ]
     },
     "metadata": {},
     "output_type": "display_data"
    },
    {
     "data": {
      "text/plain": [
       "MapPartitionsRDD[85] at mapValues at <console>:43"
      ]
     },
     "execution_count": 53,
     "metadata": {},
     "output_type": "execute_result"
    }
   ],
   "source": [
    "val sumKeyValues = pairRdd.combineByKey((value: Int) => (value, 1),\n",
    "                                        (acc:(Int, Int), value: Int) => (acc._1 + value, acc._2 + 1),\n",
    "                                        (acc1:(Int, Int), acc2:(Int, Int)) => (acc1._1 + acc2._1, acc1._2 + acc2._2))\n",
    "\n",
    "val avgComByKey = sumKeyValues.mapValues({case(x, y) => x.toFloat/y})\n",
    "\n",
    "print(\"Average by key using combineByKey(): \" + avgComByKey.collect().mkString(\", \"))"
   ]
  },
  {
   "cell_type": "markdown",
   "metadata": {},
   "source": [
    "`flatMapValues()`"
   ]
  },
  {
   "cell_type": "code",
   "execution_count": 54,
   "metadata": {},
   "outputs": [
    {
     "name": "stdout",
     "output_type": "stream",
     "text": [
      "RDD using flatMapValues(): (1,1), (4,1), (4,2), (4,3), (4,4), (4,5), (4,6), (4,7), (4,8), (4,9)\n"
     ]
    }
   ],
   "source": [
    "println(\"RDD using flatMapValues(): \" + pairRdd.flatMapValues(x => (1 to x)).take(10).mkString(\", \"))"
   ]
  },
  {
   "cell_type": "markdown",
   "metadata": {},
   "source": [
    "`keys()`"
   ]
  },
  {
   "cell_type": "code",
   "execution_count": 55,
   "metadata": {},
   "outputs": [
    {
     "name": "stdout",
     "output_type": "stream",
     "text": [
      "Get keys from key/pair RDD using keys(): 1, 4, 2, 4, 1, 3, 3\n"
     ]
    }
   ],
   "source": [
    "println(\"Get keys from key/pair RDD using keys(): \" + pairRdd.keys.collect().mkString(\", \"))"
   ]
  },
  {
   "cell_type": "markdown",
   "metadata": {},
   "source": [
    "`values()`"
   ]
  },
  {
   "cell_type": "code",
   "execution_count": 56,
   "metadata": {},
   "outputs": [
    {
     "name": "stdout",
     "output_type": "stream",
     "text": [
      "Get values from key/pair RDD using keys(): 1, 16, 4, 16, 1, 9, 9\n"
     ]
    }
   ],
   "source": [
    "println(\"Get values from key/pair RDD using keys(): \" + pairRdd.values.collect().mkString(\", \"))"
   ]
  },
  {
   "cell_type": "markdown",
   "metadata": {},
   "source": [
    "`sortByKey()`"
   ]
  },
  {
   "cell_type": "code",
   "execution_count": 57,
   "metadata": {},
   "outputs": [
    {
     "data": {
      "text/plain": [
       "ParallelCollectionRDD[89] at parallelize at <console>:33"
      ]
     },
     "execution_count": 57,
     "metadata": {},
     "output_type": "execute_result"
    },
    {
     "data": {
      "text/plain": [
       "rddSort = ParallelCollectionRDD[89] at parallelize at <console>:33\n"
      ]
     },
     "metadata": {},
     "output_type": "display_data"
    }
   ],
   "source": [
    "val rddSort = sc.parallelize(List((4, (8, 2)), (1, (3, 1, 9))))"
   ]
  },
  {
   "cell_type": "code",
   "execution_count": 58,
   "metadata": {},
   "outputs": [
    {
     "name": "stdout",
     "output_type": "stream",
     "text": [
      "Get RDD sorted by keys using sortByKey(): (1,(3,1,9)), (4,(8,2))\n"
     ]
    }
   ],
   "source": [
    "println(\"Get RDD sorted by keys using sortByKey(): \" + rddSort.sortByKey().collect().mkString(\", \"))"
   ]
  },
  {
   "cell_type": "markdown",
   "metadata": {},
   "source": [
    "## Transformations on two Pair RDDs"
   ]
  },
  {
   "cell_type": "code",
   "execution_count": 59,
   "metadata": {},
   "outputs": [
    {
     "data": {
      "text/plain": [
       "pairRdd1 = ParallelCollectionRDD[93] at parallelize at <console>:33\n",
       "pairRdd2 = ParallelCollectionRDD[94] at parallelize at <console>:34\n"
      ]
     },
     "metadata": {},
     "output_type": "display_data"
    },
    {
     "data": {
      "text/plain": [
       "ParallelCollectionRDD[94] at parallelize at <console>:34"
      ]
     },
     "execution_count": 59,
     "metadata": {},
     "output_type": "execute_result"
    }
   ],
   "source": [
    "val pairRdd1 = sc.parallelize(List((3, 'A'), (2, 'J'), (5, 'K')))\n",
    "val pairRdd2 = sc.parallelize(List((5, 'Z'), (3, 'W'), (7, 'B')))"
   ]
  },
  {
   "cell_type": "markdown",
   "metadata": {},
   "source": [
    "`subtractByKey()`"
   ]
  },
  {
   "cell_type": "code",
   "execution_count": 60,
   "metadata": {},
   "outputs": [
    {
     "name": "stdout",
     "output_type": "stream",
     "text": [
      "RDD from subtractByKey(): (3,A), (2,J), (5,K)\n"
     ]
    },
    {
     "data": {
      "text/plain": [
       "subtractRdd = MapPartitionsRDD[98] at subtract at <console>:38\n"
      ]
     },
     "metadata": {},
     "output_type": "display_data"
    },
    {
     "data": {
      "text/plain": [
       "MapPartitionsRDD[98] at subtract at <console>:38"
      ]
     },
     "execution_count": 60,
     "metadata": {},
     "output_type": "execute_result"
    }
   ],
   "source": [
    "val subtractRdd = pairRdd1.subtract(pairRdd2)\n",
    "println(\"RDD from subtractByKey(): \" + subtractRdd.collect().mkString(\", \"))"
   ]
  },
  {
   "cell_type": "markdown",
   "metadata": {},
   "source": [
    "`.join()`"
   ]
  },
  {
   "cell_type": "code",
   "execution_count": 61,
   "metadata": {},
   "outputs": [
    {
     "name": "stdout",
     "output_type": "stream",
     "text": [
      "RDD from join(): (5,(K,Z)), (3,(A,W))\n"
     ]
    },
    {
     "data": {
      "text/plain": [
       "joinRdd = MapPartitionsRDD[101] at join at <console>:38\n"
      ]
     },
     "metadata": {},
     "output_type": "display_data"
    },
    {
     "data": {
      "text/plain": [
       "MapPartitionsRDD[101] at join at <console>:38"
      ]
     },
     "execution_count": 61,
     "metadata": {},
     "output_type": "execute_result"
    }
   ],
   "source": [
    "val joinRdd = pairRdd1.join(pairRdd2)\n",
    "println(\"RDD from join(): \" + joinRdd.collect().mkString(\", \"))"
   ]
  },
  {
   "cell_type": "markdown",
   "metadata": {},
   "source": [
    "`.leftOuterJoin()`"
   ]
  },
  {
   "cell_type": "code",
   "execution_count": 62,
   "metadata": {},
   "outputs": [
    {
     "name": "stdout",
     "output_type": "stream",
     "text": [
      "RDD from leftOuterJoin(): (5,(K,Some(Z))), (2,(J,None)), (3,(A,Some(W)))\n"
     ]
    },
    {
     "data": {
      "text/plain": [
       "leftOuterJoinRdd = MapPartitionsRDD[104] at leftOuterJoin at <console>:38\n"
      ]
     },
     "metadata": {},
     "output_type": "display_data"
    },
    {
     "data": {
      "text/plain": [
       "MapPartitionsRDD[104] at leftOuterJoin at <console>:38"
      ]
     },
     "execution_count": 62,
     "metadata": {},
     "output_type": "execute_result"
    }
   ],
   "source": [
    "val leftOuterJoinRdd = pairRdd1.leftOuterJoin(pairRdd2)\n",
    "println(\"RDD from leftOuterJoin(): \" + leftOuterJoinRdd.collect().mkString(\", \"))"
   ]
  },
  {
   "cell_type": "markdown",
   "metadata": {},
   "source": [
    "`.rightOuterJoin()`"
   ]
  },
  {
   "cell_type": "code",
   "execution_count": 63,
   "metadata": {},
   "outputs": [
    {
     "name": "stdout",
     "output_type": "stream",
     "text": [
      "RDD from rightOuterJoin(): (5,(Some(K),Z)), (3,(Some(A),W)), (7,(None,B))\n"
     ]
    },
    {
     "data": {
      "text/plain": [
       "rightOuterJoinRdd = MapPartitionsRDD[107] at rightOuterJoin at <console>:38\n"
      ]
     },
     "metadata": {},
     "output_type": "display_data"
    },
    {
     "data": {
      "text/plain": [
       "MapPartitionsRDD[107] at rightOuterJoin at <console>:38"
      ]
     },
     "execution_count": 63,
     "metadata": {},
     "output_type": "execute_result"
    }
   ],
   "source": [
    "val rightOuterJoinRdd = pairRdd1.rightOuterJoin(pairRdd2)\n",
    "println(\"RDD from rightOuterJoin(): \" + rightOuterJoinRdd.collect().mkString(\", \"))"
   ]
  },
  {
   "cell_type": "markdown",
   "metadata": {},
   "source": [
    "`.cogroup()`"
   ]
  },
  {
   "cell_type": "code",
   "execution_count": 64,
   "metadata": {},
   "outputs": [
    {
     "name": "stdout",
     "output_type": "stream",
     "text": [
      "RDD from cogroup(): (5,(CompactBuffer(K),CompactBuffer(Z))), (2,(CompactBuffer(J),CompactBuffer())), (3,(CompactBuffer(A),CompactBuffer(W))), (7,(CompactBuffer(),CompactBuffer(B)))\n"
     ]
    },
    {
     "data": {
      "text/plain": [
       "cogroupedRdd = MapPartitionsRDD[109] at cogroup at <console>:38\n"
      ]
     },
     "metadata": {},
     "output_type": "display_data"
    },
    {
     "data": {
      "text/plain": [
       "MapPartitionsRDD[109] at cogroup at <console>:38"
      ]
     },
     "execution_count": 64,
     "metadata": {},
     "output_type": "execute_result"
    }
   ],
   "source": [
    "val cogroupedRdd = pairRdd1.cogroup(pairRdd2)\n",
    "println(\"RDD from cogroup(): \" + cogroupedRdd.collect().mkString(\", \"))"
   ]
  },
  {
   "cell_type": "markdown",
   "metadata": {},
   "source": [
    "## Actions Available on Pair RDDs"
   ]
  },
  {
   "cell_type": "markdown",
   "metadata": {},
   "source": [
    "`countByKey()`"
   ]
  },
  {
   "cell_type": "code",
   "execution_count": 65,
   "metadata": {},
   "outputs": [
    {
     "name": "stdout",
     "output_type": "stream",
     "text": [
      "countByKey(): Map(4 -> 2, 1 -> 2, 2 -> 1, 3 -> 2)\n"
     ]
    }
   ],
   "source": [
    "println(\"countByKey(): \" + pairRdd.countByKey())"
   ]
  },
  {
   "cell_type": "markdown",
   "metadata": {},
   "source": [
    "`collectAsMap()`"
   ]
  },
  {
   "cell_type": "code",
   "execution_count": 66,
   "metadata": {},
   "outputs": [
    {
     "name": "stdout",
     "output_type": "stream",
     "text": [
      "collectAsMap(): Map(2 -> 4, 4 -> 16, 1 -> 1, 3 -> 9)\n"
     ]
    }
   ],
   "source": [
    "println(\"collectAsMap(): \" + pairRdd.collectAsMap())"
   ]
  },
  {
   "cell_type": "markdown",
   "metadata": {},
   "source": [
    "`lookup()`"
   ]
  },
  {
   "cell_type": "code",
   "execution_count": 67,
   "metadata": {},
   "outputs": [
    {
     "name": "stdout",
     "output_type": "stream",
     "text": [
      "lookup(4): WrappedArray(16, 16)\n"
     ]
    }
   ],
   "source": [
    "println(\"lookup(4): \" + pairRdd.lookup(4))"
   ]
  },
  {
   "cell_type": "markdown",
   "metadata": {},
   "source": [
    "## Partitions"
   ]
  },
  {
   "cell_type": "markdown",
   "metadata": {},
   "source": [
    "`repartition()`"
   ]
  },
  {
   "cell_type": "code",
   "execution_count": 68,
   "metadata": {},
   "outputs": [
    {
     "name": "stdout",
     "output_type": "stream",
     "text": [
      "Repartition of an RDD: \n"
     ]
    },
    {
     "data": {
      "text/plain": [
       "[[(1,1), (2,4), (4,16), (3,9)], [(4,16), (1,1), (3,9)]]"
      ]
     },
     "execution_count": 68,
     "metadata": {},
     "output_type": "execute_result"
    }
   ],
   "source": [
    "println(\"Repartition of an RDD: \")\n",
    "pairRdd.repartition(2).glom().collect()"
   ]
  },
  {
   "cell_type": "markdown",
   "metadata": {},
   "source": [
    "`partitionBy()`"
   ]
  },
  {
   "cell_type": "code",
   "execution_count": 69,
   "metadata": {},
   "outputs": [],
   "source": [
    "import org.apache.spark.HashPartitioner"
   ]
  },
  {
   "cell_type": "code",
   "execution_count": 70,
   "metadata": {},
   "outputs": [
    {
     "data": {
      "text/plain": [
       "myPartitioner = org.apache.spark.HashPartitioner@2\n"
      ]
     },
     "metadata": {},
     "output_type": "display_data"
    },
    {
     "data": {
      "text/plain": [
       "org.apache.spark.HashPartitioner@2"
      ]
     },
     "execution_count": 70,
     "metadata": {},
     "output_type": "execute_result"
    }
   ],
   "source": [
    "val myPartitioner = new HashPartitioner(2)"
   ]
  },
  {
   "cell_type": "code",
   "execution_count": 71,
   "metadata": {},
   "outputs": [
    {
     "name": "stdout",
     "output_type": "stream",
     "text": [
      "Custom partitioning using partitionBy()"
     ]
    },
    {
     "data": {
      "text/plain": [
       "[[(4,16), (2,4), (4,16)], [(1,1), (1,1), (3,9), (3,9)]]"
      ]
     },
     "execution_count": 71,
     "metadata": {},
     "output_type": "execute_result"
    }
   ],
   "source": [
    "print(\"Custom partitioning using partitionBy()\")\n",
    "pairRdd.partitionBy(myPartitioner).glom().collect()"
   ]
  },
  {
   "cell_type": "code",
   "execution_count": null,
   "metadata": {},
   "outputs": [],
   "source": []
  }
 ],
 "metadata": {
  "kernelspec": {
   "display_name": "Apache Toree - Scala",
   "language": "scala",
   "name": "apache_toree_scala"
  },
  "language_info": {
   "codemirror_mode": "text/x-scala",
   "file_extension": ".scala",
   "mimetype": "text/x-scala",
   "name": "scala",
   "pygments_lexer": "scala",
   "version": "2.11.8"
  }
 },
 "nbformat": 4,
 "nbformat_minor": 2
}
